{
 "cells": [
  {
   "cell_type": "markdown",
   "metadata": {},
   "source": [
    "## For creating train set and cross validation."
   ]
  },
  {
   "cell_type": "code",
   "execution_count": 6,
   "metadata": {
    "scrolled": false
   },
   "outputs": [],
   "source": [
    "#  we first only consider these attributes RM=6 AGE=7 TAX=10\n",
    "import tensorflow as tf\n",
    "import numpy as np\n",
    "import pandas as pd\n",
    "import matplotlib.pyplot as plt\n",
    "from sklearn.datasets import load_boston\n",
    "%matplotlib inline\n",
    "\n",
    "\n",
    "logDir = './logs/'\n",
    "datasetPath = '../DATAsets/housing_data/housingdata.csv'\n",
    "\n",
    "#output Y values\n",
    "data = load_boston()\n",
    "target = data.target\n",
    "df = pd.read_csv(datasetPath,header=None)\n",
    "#mean normalization:\n",
    "mean = np.mean(df,axis=0)\n",
    "sigma = np.std(df,axis=0)\n",
    "df = (df - mean)/sigma\n",
    "data_matrix = pd.DataFrame.as_matrix(df)\n",
    "\n",
    "with tf.name_scope('DATA'):\n",
    "    data_set = tf.placeholder(tf.float32,shape=(506,14),name='input_dataset')\n",
    "    train_setX = tf.placeholder(tf.float32,shape=(405,13),name='training_setX')\n",
    "    train_setY = tf.placeholder(tf.float32,shape=(405,1),name='training_setY')\n",
    "    cvtest_setX = tf.placeholder(tf.float32,shape=(100,13),name='cvtest_setX')\n",
    "    cvtest_setY = tf.placeholder(tf.float32,shape=(100,1),name='cvtest_setY')\n",
    "    \n",
    "    \n",
    "#function for generating cvtest and training set with train = 80%\n",
    "''' Slicing operation in python takes format like this temp[start_index : end_index : step_size ]\n",
    "    if user leaves blank before the first colon then all the elements from the start are considered.\n",
    "    e.g. [:80] from the beginning of the array till 80th index.\n",
    "    if user leaves blank after the colon then all consider all the elements till the end.\n",
    "    e.g. [80:] from 80th index till the end of the array.\n",
    "'''\n",
    "def train_cvtest_data(dataset):\n",
    "    train = dataset[:405]\n",
    "    cv = dataset[406:]\n",
    "    return train,cv\n",
    "\n",
    "# put all below code before tf.Session()\n",
    "\n",
    "init_op = tf.global_variables_initializer()\n",
    "with tf.Session() as sess:\n",
    "    \n",
    "    sess.run(init_op)\n",
    "    #complete input dataset.\n",
    "    res = sess.run(data_set,feed_dict={data_set:data_matrix})    \n",
    "    \n",
    "    # let's create corssvalidation set and training set with train set = 80% and cvtest = 20%\n",
    "    trainset,cvtestset = train_cvtest_data(res)\n",
    "    \n",
    "    \n",
    "    #divide the data into trainX trainY and cvtestX cvtestY\n",
    "    with tf.name_scope('CV_and_Test_data'):\n",
    "        trainX = trainset[:,:13]\n",
    "        trainY = trainset[:,13]\n",
    "        cvtestX = cvtestset[:,:13]\n",
    "        cvtestY = cvtestset[:,13]"
   ]
  },
  {
   "cell_type": "markdown",
   "metadata": {},
   "source": [
    "## Hypothesis and cost function"
   ]
  },
  {
   "cell_type": "code",
   "execution_count": 7,
   "metadata": {
    "scrolled": false
   },
   "outputs": [
    {
     "name": "stdout",
     "output_type": "stream",
     "text": [
      "Fitting after each 10 steps:\n",
      "NOTE: Just for displaying after each 10 steps cost is printed, fitting is takes 100 epochs\n",
      "Epoch:  0  Mean_weight= 0.705738  cost= 21.7177\n",
      "Epoch:  10  Mean_weight= 0.233684  cost= 0.860253\n",
      "Epoch:  20  Mean_weight= 0.106104  cost= 0.461943\n",
      "Epoch:  30  Mean_weight= 0.0498605  cost= 0.355921\n",
      "Epoch:  40  Mean_weight= 0.018545  cost= 0.313688\n",
      "Epoch:  50  Mean_weight= -0.000791389  cost= 0.293995\n",
      "Epoch:  60  Mean_weight= -0.0134187  cost= 0.283926\n",
      "Epoch:  70  Mean_weight= -0.0219644  cost= 0.278424\n",
      "Epoch:  80  Mean_weight= -0.0278944  cost= 0.27525\n",
      "Epoch:  90  Mean_weight= -0.032087  cost= 0.273331\n",
      "\\TRAINING COMPLETE !\n",
      "\n",
      "Cross Validation testing\n",
      "error rate =  0.287343\n"
     ]
    },
    {
     "data": {
      "text/plain": [
       "Text(0,0.5,'Predicted Values')"
      ]
     },
     "execution_count": 7,
     "metadata": {},
     "output_type": "execute_result"
    },
    {
     "data": {
      "image/png": "[encoded data removed]",
      "text/plain": [
       "<matplotlib.figure.Figure at 0x7f19a94f1dd8>"
      ]
     },
     "metadata": {},
     "output_type": "display_data"
    }
   ],
   "source": [
    "trainY = np.reshape(trainY,(405,1))\n",
    "cvtestY = np.reshape(cvtestY,(100,1))\n",
    "\n",
    "#For training.\n",
    "W = tf.Variable(tf.ones([13,1],dtype=tf.float32),name='Weights')\n",
    "b = tf.Variable(0,dtype=tf.float32,name='Baises')\n",
    "h = tf.add(b,tf.matmul(train_setX,W))       #hypothesis.b\n",
    "\n",
    "# J = tf.divide(tf.reduce_sum(tf.square(tf.subtract(h,train_setY))),tf.multiply(2.00,405.000))\n",
    "J = tf.reduce_mean(tf.square(tf.subtract(h,train_setY)))\n",
    "optimizer = tf.train.GradientDescentOptimizer(0.1).minimize(J)\n",
    "\n",
    "h_cv = tf.add(b,tf.matmul(cvtest_setX,W))\n",
    "J_cv = tf.reduce_mean(tf.square(tf.subtract(h_cv,cvtest_setY)))\n",
    "\n",
    "cost_hist=[]\n",
    "costCV_hist = []\n",
    "\n",
    "init_op  = tf.global_variables_initializer()    #this global initilizers must alwas be present afater decalring variables\n",
    "with tf.Session() as sess:    \n",
    "    sess.run(init_op)\n",
    "    print(\"Fitting after each 10 steps:\")\n",
    "    print(\"NOTE: Just for displaying after each 10 steps cost is printed, fitting is takes 100 epochs\")\n",
    "    \n",
    "    for i in range(100):\n",
    "        _,c = sess.run([optimizer,J],feed_dict={train_setX:trainX,train_setY:trainY})\n",
    "        \n",
    "        if(i%10==0):\n",
    "            print(\"Epoch: \",i,\" Mean_weight=\",sess.run(tf.reduce_mean(W)),\" cost=\",c)\n",
    "            \n",
    "        cost_hist.append(c)    \n",
    "        \n",
    "    print(\"\\TRAINING COMPLETE !\")\n",
    "    \n",
    "    # Cross validation testing:\n",
    "    print(\"\\nCross Validation testing\")\n",
    "    res = sess.run(J_cv,feed_dict={cvtest_setX:cvtestX,cvtest_setY:cvtestY})\n",
    "    print(\"error rate = \",res)\n",
    "    \n",
    "    # getting h and h_cv data for plotting purpose:\n",
    "    H = sess.run(h,feed_dict={train_setX:trainX})\n",
    "    H_CV = sess.run(h_cv,feed_dict={cvtest_setX:cvtestX})\n",
    "\n",
    "fig,ax = plt.subplots()\n",
    "ax.scatter(cvtestY,H_CV)\n",
    "ax.set_xlabel('Measured Values')\n",
    "ax.set_ylabel('Predicted Values')\n",
    "\n",
    "\n"
   ]
  },
  {
   "cell_type": "markdown",
   "metadata": {},
   "source": [
    "### Cost function convergence using gradient descent"
   ]
  },
  {
   "cell_type": "code",
   "execution_count": 8,
   "metadata": {},
   "outputs": [
    {
     "data": {
      "text/plain": [
       "[<matplotlib.lines.Line2D at 0x7f19a93e2518>]"
      ]
     },
     "execution_count": 8,
     "metadata": {},
     "output_type": "execute_result"
    },
    {
     "data": {
      "image/png": "[encoded data removed]",
      "text/plain": [
       "<matplotlib.figure.Figure at 0x7f19a95457b8>"
      ]
     },
     "metadata": {},
     "output_type": "display_data"
    }
   ],
   "source": [
    "plt.plot(range(len(cost_hist)),cost_hist)"
   ]
  }
 ],
 "metadata": {
  "kernelspec": {
   "display_name": "Python 3",
   "language": "python",
   "name": "python3"
  },
  "language_info": {
   "codemirror_mode": {
    "name": "ipython",
    "version": 3
   },
   "file_extension": ".py",
   "mimetype": "text/x-python",
   "name": "python",
   "nbconvert_exporter": "python",
   "pygments_lexer": "ipython3",
   "version": "3.5.2"
  }
 },
 "nbformat": 4,
 "nbformat_minor": 2
}
